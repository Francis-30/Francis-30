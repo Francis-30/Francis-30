{
  "nbformat": 4,
  "nbformat_minor": 0,
  "metadata": {
    "colab": {
      "provenance": [],
      "mount_file_id": "14dnjXbI00CqbgCFuLXf7foMFSbdTEPSM",
      "authorship_tag": "ABX9TyM0IfBIwCR483EF0yDewMAt",
      "include_colab_link": true
    },
    "kernelspec": {
      "name": "python3",
      "display_name": "Python 3"
    },
    "language_info": {
      "name": "python"
    }
  },
  "cells": [
    {
      "cell_type": "markdown",
      "metadata": {
        "id": "view-in-github",
        "colab_type": "text"
      },
      "source": [
        "<a href=\"https://colab.research.google.com/github/Francis-30/Francis-30/blob/main/credit_card_churn.ipynb\" target=\"_parent\"><img src=\"https://colab.research.google.com/assets/colab-badge.svg\" alt=\"Open In Colab\"/></a>"
      ]
    },
    {
      "cell_type": "markdown",
      "source": [
        "the issue at hand is to predict customers risk to Churn.\n",
        "target term is churn which means customers abadoning the business patronage,my churn is Attrition_Flag, which contains attrited and existing customers. Attrited means reduced patronage.\n",
        "our dataset is the data of a Credit card company. the business is worried about customers churning.\n",
        "there are 10127 rows and 23 columns. my process of spliting into X and Y is shown in the module containing my Functions.\n",
        "after testing metric accuracy_score on decision tree and Random forest, i got a 95% Accuracy score while decision tree gave me a 93% accuracy_score. Every detail on cleaning and exploring the data is shown in the function module.\n",
        "\n",
        "Three columns which are unuseful where removed before splitting, such as CLIENTNUM,Naive_Bayes_Classifier_Attrition_Flag_Card_Category_Contacts_Count_12_mon_Dependent_count_Education_Level_Months_Inactive_12_mon_1   and Naive_Bayes_Classifier_Attrition_Flag_Card_Category_Contacts_Count_12_mon_Dependent_count_Education_Level_Months_Inactive_12_mon_2. after checking on the about section of the Dataset on Kaggle."
      ],
      "metadata": {
        "id": "bv2fXTZjsQDL"
      }
    },
    {
      "cell_type": "code",
      "source": [
        "import pandas as pd\n",
        "import numpy as np\n",
        "\n",
        "from sklearn.preprocessing import StandardScaler\n",
        "from sklearn.model_selection import train_test_split\n",
        "from sklearn.metrics import accuracy_score"
      ],
      "metadata": {
        "id": "TCl4YZ13uHFZ"
      },
      "execution_count": null,
      "outputs": []
    },
    {
      "cell_type": "code",
      "source": [
        "df= pd.read_csv('/content/drive/MyDrive/credit card.zip')\n",
        "df.head()"
      ],
      "metadata": {
        "colab": {
          "base_uri": "https://localhost:8080/",
          "height": 386
        },
        "id": "nZf3xbnUuhtv",
        "outputId": "6d8f09b4-f3fd-434f-bde8-9d204c5cef9d"
      },
      "execution_count": null,
      "outputs": [
        {
          "output_type": "execute_result",
          "data": {
            "text/plain": [
              "   CLIENTNUM     Attrition_Flag  Customer_Age Gender  Dependent_count  \\\n",
              "0  768805383  Existing Customer            45      M                3   \n",
              "1  818770008  Existing Customer            49      F                5   \n",
              "2  713982108  Existing Customer            51      M                3   \n",
              "3  769911858  Existing Customer            40      F                4   \n",
              "4  709106358  Existing Customer            40      M                3   \n",
              "\n",
              "  Education_Level Marital_Status Income_Category Card_Category  \\\n",
              "0     High School        Married     $60K - $80K          Blue   \n",
              "1        Graduate         Single  Less than $40K          Blue   \n",
              "2        Graduate        Married    $80K - $120K          Blue   \n",
              "3     High School        Unknown  Less than $40K          Blue   \n",
              "4      Uneducated        Married     $60K - $80K          Blue   \n",
              "\n",
              "   Months_on_book  ...  Credit_Limit  Total_Revolving_Bal  Avg_Open_To_Buy  \\\n",
              "0              39  ...       12691.0                  777          11914.0   \n",
              "1              44  ...        8256.0                  864           7392.0   \n",
              "2              36  ...        3418.0                    0           3418.0   \n",
              "3              34  ...        3313.0                 2517            796.0   \n",
              "4              21  ...        4716.0                    0           4716.0   \n",
              "\n",
              "   Total_Amt_Chng_Q4_Q1  Total_Trans_Amt  Total_Trans_Ct  Total_Ct_Chng_Q4_Q1  \\\n",
              "0                 1.335             1144              42                1.625   \n",
              "1                 1.541             1291              33                3.714   \n",
              "2                 2.594             1887              20                2.333   \n",
              "3                 1.405             1171              20                2.333   \n",
              "4                 2.175              816              28                2.500   \n",
              "\n",
              "   Avg_Utilization_Ratio  \\\n",
              "0                  0.061   \n",
              "1                  0.105   \n",
              "2                  0.000   \n",
              "3                  0.760   \n",
              "4                  0.000   \n",
              "\n",
              "   Naive_Bayes_Classifier_Attrition_Flag_Card_Category_Contacts_Count_12_mon_Dependent_count_Education_Level_Months_Inactive_12_mon_1  \\\n",
              "0                                           0.000093                                                                                    \n",
              "1                                           0.000057                                                                                    \n",
              "2                                           0.000021                                                                                    \n",
              "3                                           0.000134                                                                                    \n",
              "4                                           0.000022                                                                                    \n",
              "\n",
              "   Naive_Bayes_Classifier_Attrition_Flag_Card_Category_Contacts_Count_12_mon_Dependent_count_Education_Level_Months_Inactive_12_mon_2  \n",
              "0                                            0.99991                                                                                   \n",
              "1                                            0.99994                                                                                   \n",
              "2                                            0.99998                                                                                   \n",
              "3                                            0.99987                                                                                   \n",
              "4                                            0.99998                                                                                   \n",
              "\n",
              "[5 rows x 23 columns]"
            ],
            "text/html": [
              "\n",
              "  <div id=\"df-bdb066a9-dcd5-4630-91f8-04bd3771530a\">\n",
              "    <div class=\"colab-df-container\">\n",
              "      <div>\n",
              "<style scoped>\n",
              "    .dataframe tbody tr th:only-of-type {\n",
              "        vertical-align: middle;\n",
              "    }\n",
              "\n",
              "    .dataframe tbody tr th {\n",
              "        vertical-align: top;\n",
              "    }\n",
              "\n",
              "    .dataframe thead th {\n",
              "        text-align: right;\n",
              "    }\n",
              "</style>\n",
              "<table border=\"1\" class=\"dataframe\">\n",
              "  <thead>\n",
              "    <tr style=\"text-align: right;\">\n",
              "      <th></th>\n",
              "      <th>CLIENTNUM</th>\n",
              "      <th>Attrition_Flag</th>\n",
              "      <th>Customer_Age</th>\n",
              "      <th>Gender</th>\n",
              "      <th>Dependent_count</th>\n",
              "      <th>Education_Level</th>\n",
              "      <th>Marital_Status</th>\n",
              "      <th>Income_Category</th>\n",
              "      <th>Card_Category</th>\n",
              "      <th>Months_on_book</th>\n",
              "      <th>...</th>\n",
              "      <th>Credit_Limit</th>\n",
              "      <th>Total_Revolving_Bal</th>\n",
              "      <th>Avg_Open_To_Buy</th>\n",
              "      <th>Total_Amt_Chng_Q4_Q1</th>\n",
              "      <th>Total_Trans_Amt</th>\n",
              "      <th>Total_Trans_Ct</th>\n",
              "      <th>Total_Ct_Chng_Q4_Q1</th>\n",
              "      <th>Avg_Utilization_Ratio</th>\n",
              "      <th>Naive_Bayes_Classifier_Attrition_Flag_Card_Category_Contacts_Count_12_mon_Dependent_count_Education_Level_Months_Inactive_12_mon_1</th>\n",
              "      <th>Naive_Bayes_Classifier_Attrition_Flag_Card_Category_Contacts_Count_12_mon_Dependent_count_Education_Level_Months_Inactive_12_mon_2</th>\n",
              "    </tr>\n",
              "  </thead>\n",
              "  <tbody>\n",
              "    <tr>\n",
              "      <th>0</th>\n",
              "      <td>768805383</td>\n",
              "      <td>Existing Customer</td>\n",
              "      <td>45</td>\n",
              "      <td>M</td>\n",
              "      <td>3</td>\n",
              "      <td>High School</td>\n",
              "      <td>Married</td>\n",
              "      <td>$60K - $80K</td>\n",
              "      <td>Blue</td>\n",
              "      <td>39</td>\n",
              "      <td>...</td>\n",
              "      <td>12691.0</td>\n",
              "      <td>777</td>\n",
              "      <td>11914.0</td>\n",
              "      <td>1.335</td>\n",
              "      <td>1144</td>\n",
              "      <td>42</td>\n",
              "      <td>1.625</td>\n",
              "      <td>0.061</td>\n",
              "      <td>0.000093</td>\n",
              "      <td>0.99991</td>\n",
              "    </tr>\n",
              "    <tr>\n",
              "      <th>1</th>\n",
              "      <td>818770008</td>\n",
              "      <td>Existing Customer</td>\n",
              "      <td>49</td>\n",
              "      <td>F</td>\n",
              "      <td>5</td>\n",
              "      <td>Graduate</td>\n",
              "      <td>Single</td>\n",
              "      <td>Less than $40K</td>\n",
              "      <td>Blue</td>\n",
              "      <td>44</td>\n",
              "      <td>...</td>\n",
              "      <td>8256.0</td>\n",
              "      <td>864</td>\n",
              "      <td>7392.0</td>\n",
              "      <td>1.541</td>\n",
              "      <td>1291</td>\n",
              "      <td>33</td>\n",
              "      <td>3.714</td>\n",
              "      <td>0.105</td>\n",
              "      <td>0.000057</td>\n",
              "      <td>0.99994</td>\n",
              "    </tr>\n",
              "    <tr>\n",
              "      <th>2</th>\n",
              "      <td>713982108</td>\n",
              "      <td>Existing Customer</td>\n",
              "      <td>51</td>\n",
              "      <td>M</td>\n",
              "      <td>3</td>\n",
              "      <td>Graduate</td>\n",
              "      <td>Married</td>\n",
              "      <td>$80K - $120K</td>\n",
              "      <td>Blue</td>\n",
              "      <td>36</td>\n",
              "      <td>...</td>\n",
              "      <td>3418.0</td>\n",
              "      <td>0</td>\n",
              "      <td>3418.0</td>\n",
              "      <td>2.594</td>\n",
              "      <td>1887</td>\n",
              "      <td>20</td>\n",
              "      <td>2.333</td>\n",
              "      <td>0.000</td>\n",
              "      <td>0.000021</td>\n",
              "      <td>0.99998</td>\n",
              "    </tr>\n",
              "    <tr>\n",
              "      <th>3</th>\n",
              "      <td>769911858</td>\n",
              "      <td>Existing Customer</td>\n",
              "      <td>40</td>\n",
              "      <td>F</td>\n",
              "      <td>4</td>\n",
              "      <td>High School</td>\n",
              "      <td>Unknown</td>\n",
              "      <td>Less than $40K</td>\n",
              "      <td>Blue</td>\n",
              "      <td>34</td>\n",
              "      <td>...</td>\n",
              "      <td>3313.0</td>\n",
              "      <td>2517</td>\n",
              "      <td>796.0</td>\n",
              "      <td>1.405</td>\n",
              "      <td>1171</td>\n",
              "      <td>20</td>\n",
              "      <td>2.333</td>\n",
              "      <td>0.760</td>\n",
              "      <td>0.000134</td>\n",
              "      <td>0.99987</td>\n",
              "    </tr>\n",
              "    <tr>\n",
              "      <th>4</th>\n",
              "      <td>709106358</td>\n",
              "      <td>Existing Customer</td>\n",
              "      <td>40</td>\n",
              "      <td>M</td>\n",
              "      <td>3</td>\n",
              "      <td>Uneducated</td>\n",
              "      <td>Married</td>\n",
              "      <td>$60K - $80K</td>\n",
              "      <td>Blue</td>\n",
              "      <td>21</td>\n",
              "      <td>...</td>\n",
              "      <td>4716.0</td>\n",
              "      <td>0</td>\n",
              "      <td>4716.0</td>\n",
              "      <td>2.175</td>\n",
              "      <td>816</td>\n",
              "      <td>28</td>\n",
              "      <td>2.500</td>\n",
              "      <td>0.000</td>\n",
              "      <td>0.000022</td>\n",
              "      <td>0.99998</td>\n",
              "    </tr>\n",
              "  </tbody>\n",
              "</table>\n",
              "<p>5 rows × 23 columns</p>\n",
              "</div>\n",
              "      <button class=\"colab-df-convert\" onclick=\"convertToInteractive('df-bdb066a9-dcd5-4630-91f8-04bd3771530a')\"\n",
              "              title=\"Convert this dataframe to an interactive table.\"\n",
              "              style=\"display:none;\">\n",
              "        \n",
              "  <svg xmlns=\"http://www.w3.org/2000/svg\" height=\"24px\"viewBox=\"0 0 24 24\"\n",
              "       width=\"24px\">\n",
              "    <path d=\"M0 0h24v24H0V0z\" fill=\"none\"/>\n",
              "    <path d=\"M18.56 5.44l.94 2.06.94-2.06 2.06-.94-2.06-.94-.94-2.06-.94 2.06-2.06.94zm-11 1L8.5 8.5l.94-2.06 2.06-.94-2.06-.94L8.5 2.5l-.94 2.06-2.06.94zm10 10l.94 2.06.94-2.06 2.06-.94-2.06-.94-.94-2.06-.94 2.06-2.06.94z\"/><path d=\"M17.41 7.96l-1.37-1.37c-.4-.4-.92-.59-1.43-.59-.52 0-1.04.2-1.43.59L10.3 9.45l-7.72 7.72c-.78.78-.78 2.05 0 2.83L4 21.41c.39.39.9.59 1.41.59.51 0 1.02-.2 1.41-.59l7.78-7.78 2.81-2.81c.8-.78.8-2.07 0-2.86zM5.41 20L4 18.59l7.72-7.72 1.47 1.35L5.41 20z\"/>\n",
              "  </svg>\n",
              "      </button>\n",
              "      \n",
              "  <style>\n",
              "    .colab-df-container {\n",
              "      display:flex;\n",
              "      flex-wrap:wrap;\n",
              "      gap: 12px;\n",
              "    }\n",
              "\n",
              "    .colab-df-convert {\n",
              "      background-color: #E8F0FE;\n",
              "      border: none;\n",
              "      border-radius: 50%;\n",
              "      cursor: pointer;\n",
              "      display: none;\n",
              "      fill: #1967D2;\n",
              "      height: 32px;\n",
              "      padding: 0 0 0 0;\n",
              "      width: 32px;\n",
              "    }\n",
              "\n",
              "    .colab-df-convert:hover {\n",
              "      background-color: #E2EBFA;\n",
              "      box-shadow: 0px 1px 2px rgba(60, 64, 67, 0.3), 0px 1px 3px 1px rgba(60, 64, 67, 0.15);\n",
              "      fill: #174EA6;\n",
              "    }\n",
              "\n",
              "    [theme=dark] .colab-df-convert {\n",
              "      background-color: #3B4455;\n",
              "      fill: #D2E3FC;\n",
              "    }\n",
              "\n",
              "    [theme=dark] .colab-df-convert:hover {\n",
              "      background-color: #434B5C;\n",
              "      box-shadow: 0px 1px 3px 1px rgba(0, 0, 0, 0.15);\n",
              "      filter: drop-shadow(0px 1px 2px rgba(0, 0, 0, 0.3));\n",
              "      fill: #FFFFFF;\n",
              "    }\n",
              "  </style>\n",
              "\n",
              "      <script>\n",
              "        const buttonEl =\n",
              "          document.querySelector('#df-bdb066a9-dcd5-4630-91f8-04bd3771530a button.colab-df-convert');\n",
              "        buttonEl.style.display =\n",
              "          google.colab.kernel.accessAllowed ? 'block' : 'none';\n",
              "\n",
              "        async function convertToInteractive(key) {\n",
              "          const element = document.querySelector('#df-bdb066a9-dcd5-4630-91f8-04bd3771530a');\n",
              "          const dataTable =\n",
              "            await google.colab.kernel.invokeFunction('convertToInteractive',\n",
              "                                                     [key], {});\n",
              "          if (!dataTable) return;\n",
              "\n",
              "          const docLinkHtml = 'Like what you see? Visit the ' +\n",
              "            '<a target=\"_blank\" href=https://colab.research.google.com/notebooks/data_table.ipynb>data table notebook</a>'\n",
              "            + ' to learn more about interactive tables.';\n",
              "          element.innerHTML = '';\n",
              "          dataTable['output_type'] = 'display_data';\n",
              "          await google.colab.output.renderOutput(dataTable, element);\n",
              "          const docLink = document.createElement('div');\n",
              "          docLink.innerHTML = docLinkHtml;\n",
              "          element.appendChild(docLink);\n",
              "        }\n",
              "      </script>\n",
              "    </div>\n",
              "  </div>\n",
              "  "
            ]
          },
          "metadata": {},
          "execution_count": 2
        }
      ]
    },
    {
      "cell_type": "code",
      "source": [
        "df.shape"
      ],
      "metadata": {
        "colab": {
          "base_uri": "https://localhost:8080/"
        },
        "id": "xlNHvCfPu8IF",
        "outputId": "09df742c-5b84-46d7-bc57-d07506e686a1"
      },
      "execution_count": null,
      "outputs": [
        {
          "output_type": "execute_result",
          "data": {
            "text/plain": [
              "(10127, 23)"
            ]
          },
          "metadata": {},
          "execution_count": 3
        }
      ]
    },
    {
      "cell_type": "code",
      "source": [
        "df.columns"
      ],
      "metadata": {
        "colab": {
          "base_uri": "https://localhost:8080/"
        },
        "id": "aE4gDBxTvAYD",
        "outputId": "15a5a5aa-a005-4f96-b4f9-bff4fd9d473c"
      },
      "execution_count": null,
      "outputs": [
        {
          "output_type": "execute_result",
          "data": {
            "text/plain": [
              "Index(['CLIENTNUM', 'Attrition_Flag', 'Customer_Age', 'Gender',\n",
              "       'Dependent_count', 'Education_Level', 'Marital_Status',\n",
              "       'Income_Category', 'Card_Category', 'Months_on_book',\n",
              "       'Total_Relationship_Count', 'Months_Inactive_12_mon',\n",
              "       'Contacts_Count_12_mon', 'Credit_Limit', 'Total_Revolving_Bal',\n",
              "       'Avg_Open_To_Buy', 'Total_Amt_Chng_Q4_Q1', 'Total_Trans_Amt',\n",
              "       'Total_Trans_Ct', 'Total_Ct_Chng_Q4_Q1', 'Avg_Utilization_Ratio',\n",
              "       'Naive_Bayes_Classifier_Attrition_Flag_Card_Category_Contacts_Count_12_mon_Dependent_count_Education_Level_Months_Inactive_12_mon_1',\n",
              "       'Naive_Bayes_Classifier_Attrition_Flag_Card_Category_Contacts_Count_12_mon_Dependent_count_Education_Level_Months_Inactive_12_mon_2'],\n",
              "      dtype='object')"
            ]
          },
          "metadata": {},
          "execution_count": 4
        }
      ]
    },
    {
      "cell_type": "code",
      "source": [
        "df.info()"
      ],
      "metadata": {
        "colab": {
          "base_uri": "https://localhost:8080/"
        },
        "id": "1C4Q-M9lvLTi",
        "outputId": "4bd3d8f9-92cf-48c6-fc8a-56d625270491"
      },
      "execution_count": null,
      "outputs": [
        {
          "output_type": "stream",
          "name": "stdout",
          "text": [
            "<class 'pandas.core.frame.DataFrame'>\n",
            "RangeIndex: 10127 entries, 0 to 10126\n",
            "Data columns (total 23 columns):\n",
            " #   Column                                                                                                                              Non-Null Count  Dtype  \n",
            "---  ------                                                                                                                              --------------  -----  \n",
            " 0   CLIENTNUM                                                                                                                           10127 non-null  int64  \n",
            " 1   Attrition_Flag                                                                                                                      10127 non-null  object \n",
            " 2   Customer_Age                                                                                                                        10127 non-null  int64  \n",
            " 3   Gender                                                                                                                              10127 non-null  object \n",
            " 4   Dependent_count                                                                                                                     10127 non-null  int64  \n",
            " 5   Education_Level                                                                                                                     10127 non-null  object \n",
            " 6   Marital_Status                                                                                                                      10127 non-null  object \n",
            " 7   Income_Category                                                                                                                     10127 non-null  object \n",
            " 8   Card_Category                                                                                                                       10127 non-null  object \n",
            " 9   Months_on_book                                                                                                                      10127 non-null  int64  \n",
            " 10  Total_Relationship_Count                                                                                                            10127 non-null  int64  \n",
            " 11  Months_Inactive_12_mon                                                                                                              10127 non-null  int64  \n",
            " 12  Contacts_Count_12_mon                                                                                                               10127 non-null  int64  \n",
            " 13  Credit_Limit                                                                                                                        10127 non-null  float64\n",
            " 14  Total_Revolving_Bal                                                                                                                 10127 non-null  int64  \n",
            " 15  Avg_Open_To_Buy                                                                                                                     10127 non-null  float64\n",
            " 16  Total_Amt_Chng_Q4_Q1                                                                                                                10127 non-null  float64\n",
            " 17  Total_Trans_Amt                                                                                                                     10127 non-null  int64  \n",
            " 18  Total_Trans_Ct                                                                                                                      10127 non-null  int64  \n",
            " 19  Total_Ct_Chng_Q4_Q1                                                                                                                 10127 non-null  float64\n",
            " 20  Avg_Utilization_Ratio                                                                                                               10127 non-null  float64\n",
            " 21  Naive_Bayes_Classifier_Attrition_Flag_Card_Category_Contacts_Count_12_mon_Dependent_count_Education_Level_Months_Inactive_12_mon_1  10127 non-null  float64\n",
            " 22  Naive_Bayes_Classifier_Attrition_Flag_Card_Category_Contacts_Count_12_mon_Dependent_count_Education_Level_Months_Inactive_12_mon_2  10127 non-null  float64\n",
            "dtypes: float64(7), int64(10), object(6)\n",
            "memory usage: 1.8+ MB\n"
          ]
        }
      ]
    },
    {
      "cell_type": "code",
      "source": [
        "df.isna().sum()"
      ],
      "metadata": {
        "colab": {
          "base_uri": "https://localhost:8080/"
        },
        "id": "20blJwGdvRgv",
        "outputId": "65bec7be-b5da-41e2-8c74-22d5ec21465a"
      },
      "execution_count": null,
      "outputs": [
        {
          "output_type": "execute_result",
          "data": {
            "text/plain": [
              "CLIENTNUM                                                                                                                             0\n",
              "Attrition_Flag                                                                                                                        0\n",
              "Customer_Age                                                                                                                          0\n",
              "Gender                                                                                                                                0\n",
              "Dependent_count                                                                                                                       0\n",
              "Education_Level                                                                                                                       0\n",
              "Marital_Status                                                                                                                        0\n",
              "Income_Category                                                                                                                       0\n",
              "Card_Category                                                                                                                         0\n",
              "Months_on_book                                                                                                                        0\n",
              "Total_Relationship_Count                                                                                                              0\n",
              "Months_Inactive_12_mon                                                                                                                0\n",
              "Contacts_Count_12_mon                                                                                                                 0\n",
              "Credit_Limit                                                                                                                          0\n",
              "Total_Revolving_Bal                                                                                                                   0\n",
              "Avg_Open_To_Buy                                                                                                                       0\n",
              "Total_Amt_Chng_Q4_Q1                                                                                                                  0\n",
              "Total_Trans_Amt                                                                                                                       0\n",
              "Total_Trans_Ct                                                                                                                        0\n",
              "Total_Ct_Chng_Q4_Q1                                                                                                                   0\n",
              "Avg_Utilization_Ratio                                                                                                                 0\n",
              "Naive_Bayes_Classifier_Attrition_Flag_Card_Category_Contacts_Count_12_mon_Dependent_count_Education_Level_Months_Inactive_12_mon_1    0\n",
              "Naive_Bayes_Classifier_Attrition_Flag_Card_Category_Contacts_Count_12_mon_Dependent_count_Education_Level_Months_Inactive_12_mon_2    0\n",
              "dtype: int64"
            ]
          },
          "metadata": {},
          "execution_count": 6
        }
      ]
    },
    {
      "cell_type": "code",
      "source": [
        "df.Attrition_Flag.unique()"
      ],
      "metadata": {
        "colab": {
          "base_uri": "https://localhost:8080/"
        },
        "id": "54CjNn_gvZQP",
        "outputId": "6510c0bc-af92-4331-a28a-e1bb3ecb2496"
      },
      "execution_count": null,
      "outputs": [
        {
          "output_type": "execute_result",
          "data": {
            "text/plain": [
              "array(['Existing Customer', 'Attrited Customer'], dtype=object)"
            ]
          },
          "metadata": {},
          "execution_count": 7
        }
      ]
    },
    {
      "cell_type": "markdown",
      "source": [
        "creating my function code [attrition_flag,gender] is a binary encoding function"
      ],
      "metadata": {
        "id": "zQdMj9hMvisi"
      }
    },
    {
      "cell_type": "code",
      "source": [
        "def binary_encode(df, column, positive_value):\n",
        "    df= df.copy()\n",
        "    df[column]=df[column].apply(lambda x: 1 if x== positive_value else 0)\n",
        "    return df\n",
        "\n",
        "\n",
        "def ordinal_encode(df, column, ordering):\n",
        "    df= df.copy()\n",
        "    df[column]=df[column].apply(lambda x: ordering.index(x))\n",
        "\n",
        "    return df\n",
        "\n",
        "def onehot_encode(df, column, prefix):\n",
        "    df=df.copy()\n",
        "    dummies = pd.get_dummies(df[column],prefix='prefix')\n",
        "    df = pd.concat([df, dummies], axis=1)\n",
        "    df= df.drop(column, axis=1)\n",
        "    return df"
      ],
      "metadata": {
        "id": "8tAoFKePCPs1"
      },
      "execution_count": null,
      "outputs": []
    },
    {
      "cell_type": "code",
      "source": [
        "def preprocess_inputs(df):\n",
        "    df= df.copy()\n",
        "    # dropping un needed columns\n",
        "    df.drop('CLIENTNUM',inplace=True, axis=1)\n",
        "    df.drop(df.columns[-2:],inplace=True, axis=1)\n",
        "\n",
        "    # replacing unknown values with NaN\n",
        "    df = df.replace('Unknown',np.NAN)\n",
        "    #filling up NAN cells with dataset mode\n",
        "    df['Education_Level']=df['Education_Level'].fillna('Graduate')\n",
        "    df['Income_Category']=df['Income_Category'].fillna('Less than $40K')\n",
        "    df['Marital_Status']=df['Marital_Status'].fillna('Married')\n",
        "\n",
        "    # encoding binary column\n",
        "    df =binary_encode(df, 'Attrition_Flag', positive_value='Attrited Customer')\n",
        "    df =binary_encode(df, 'Gender', positive_value='M')\n",
        "    df =binary_encode(df, 'Marital_Status', positive_value='Married')\n",
        "\n",
        "    #  Encoding Ordinal column\n",
        "    Education_ordering =[\n",
        "        'Uneducated',\n",
        "        'High School',\n",
        "        'College',\n",
        "        'Graduate',\n",
        "        'Post-Graduate',\n",
        "        'Doctorate'\n",
        "        \n",
        "    ]\n",
        "    income_ordering=[\n",
        "        'Less than $40K',\n",
        "        '$40K - $60K',\n",
        "        '$60K - $80K',\n",
        "        '$80K - $120K',\n",
        "        '$120K +'\n",
        "\n",
        "        \n",
        "    ]\n",
        "    df= ordinal_encode(df,'Education_Level',ordering=Education_ordering)\n",
        "    df= ordinal_encode(df,'Income_Category',ordering=income_ordering)\n",
        "\n",
        "    #   encoding nominal column using onehot_encoding\n",
        "    df= onehot_encode(df, 'Card_Category',prefix='cc')\n",
        "    \n",
        "    \n",
        "\n",
        "    #spliting df into x and y\n",
        "    y = df['Attrition_Flag'].copy()\n",
        "    x = df.drop('Attrition_Flag',axis=1).copy()\n",
        "\n",
        "    #scale x with StandardScaler\n",
        "    scaler = StandardScaler()\n",
        "    x= pd.DataFrame(scaler.fit_transform(x),columns=x. columns)\n",
        "\n",
        "    return x, y"
      ],
      "metadata": {
        "id": "NfWdNYhLvvOg"
      },
      "execution_count": null,
      "outputs": []
    },
    {
      "cell_type": "code",
      "source": [
        "x, y = preprocess_inputs(df)"
      ],
      "metadata": {
        "id": "bbIexgkR9aQ-"
      },
      "execution_count": null,
      "outputs": []
    },
    {
      "cell_type": "code",
      "source": [
        "x"
      ],
      "metadata": {
        "colab": {
          "base_uri": "https://localhost:8080/",
          "height": 488
        },
        "id": "lpeauMTVvfsF",
        "outputId": "e70d9f04-bdca-477a-c4d2-c5301d5c4367"
      },
      "execution_count": null,
      "outputs": [
        {
          "output_type": "execute_result",
          "data": {
            "text/plain": [
              "       Customer_Age    Gender  Dependent_count  Education_Level  \\\n",
              "0         -0.165406  1.059956         0.503368        -0.893680   \n",
              "1          0.333570 -0.943436         2.043199         0.593388   \n",
              "2          0.583058  1.059956         0.503368         0.593388   \n",
              "3         -0.789126 -0.943436         1.273283        -0.893680   \n",
              "4         -0.789126  1.059956         0.503368        -1.637214   \n",
              "...             ...       ...              ...              ...   \n",
              "10122      0.458314  1.059956        -0.266547         0.593388   \n",
              "10123     -0.664382  1.059956        -0.266547         0.593388   \n",
              "10124     -0.290150 -0.943436        -1.036462        -0.893680   \n",
              "10125     -2.036565  1.059956        -0.266547         0.593388   \n",
              "10126     -0.414894 -0.943436        -0.266547         0.593388   \n",
              "\n",
              "       Marital_Status  Income_Category  Months_on_book  \\\n",
              "0            0.928951         0.597300        0.384621   \n",
              "1           -1.076483        -0.887628        1.010715   \n",
              "2            0.928951         1.339764        0.008965   \n",
              "3            0.928951        -0.887628       -0.241473   \n",
              "4            0.928951         0.597300       -1.869317   \n",
              "...               ...              ...             ...   \n",
              "10122       -1.076483        -0.145164        0.509840   \n",
              "10123       -1.076483        -0.145164       -1.368442   \n",
              "10124        0.928951        -0.887628        0.008965   \n",
              "10125        0.928951        -0.145164        0.008965   \n",
              "10126        0.928951        -0.887628       -1.368442   \n",
              "\n",
              "       Total_Relationship_Count  Months_Inactive_12_mon  \\\n",
              "0                      0.763943               -1.327136   \n",
              "1                      1.407306               -1.327136   \n",
              "2                      0.120579               -1.327136   \n",
              "3                     -0.522785                1.641478   \n",
              "4                      0.763943               -1.327136   \n",
              "...                         ...                     ...   \n",
              "10122                 -0.522785               -0.337598   \n",
              "10123                  0.120579               -0.337598   \n",
              "10124                  0.763943                0.651940   \n",
              "10125                  0.120579                0.651940   \n",
              "10126                  1.407306               -0.337598   \n",
              "\n",
              "       Contacts_Count_12_mon  ...  Avg_Open_To_Buy  Total_Amt_Chng_Q4_Q1  \\\n",
              "0                   0.492404  ...         0.488971              2.623494   \n",
              "1                  -0.411616  ...        -0.008486              3.563293   \n",
              "2                  -2.219655  ...        -0.445658              8.367214   \n",
              "3                  -1.315636  ...        -0.734100              2.942843   \n",
              "4                  -2.219655  ...        -0.302868              6.455682   \n",
              "...                      ...  ...              ...                   ...   \n",
              "10122               0.492404  ...        -0.584929             -0.259771   \n",
              "10123               0.492404  ...        -0.591639              0.201004   \n",
              "10124               1.396424  ...        -0.226632              0.269436   \n",
              "10125               0.492404  ...        -0.240713             -1.026208   \n",
              "10126               1.396424  ...         0.105372             -0.259771   \n",
              "\n",
              "       Total_Trans_Amt  Total_Trans_Ct  Total_Ct_Chng_Q4_Q1  \\\n",
              "0            -0.959707       -0.973895             3.834003   \n",
              "1            -0.916433       -1.357340            12.608573   \n",
              "2            -0.740982       -1.911206             6.807864   \n",
              "3            -0.951758       -1.911206             6.807864   \n",
              "4            -1.056263       -1.570365             7.509325   \n",
              "...                ...             ...                  ...   \n",
              "10122         3.259358        2.221481             0.608119   \n",
              "10123         1.283475        0.176440            -0.122745   \n",
              "10124         1.732994       -0.207005             0.444305   \n",
              "10125         1.174848       -0.121795             0.041070   \n",
              "10126         1.733877       -0.164400            -0.265557   \n",
              "\n",
              "       Avg_Utilization_Ratio  prefix_Blue  prefix_Gold  prefix_Platinum  \\\n",
              "0                  -0.775882     0.270611    -0.107644        -0.044484   \n",
              "1                  -0.616276     0.270611    -0.107644        -0.044484   \n",
              "2                  -0.997155     0.270611    -0.107644        -0.044484   \n",
              "3                   1.759686     0.270611    -0.107644        -0.044484   \n",
              "4                  -0.997155     0.270611    -0.107644        -0.044484   \n",
              "...                      ...          ...          ...              ...   \n",
              "10122               0.678714     0.270611    -0.107644        -0.044484   \n",
              "10123               0.856458     0.270611    -0.107644        -0.044484   \n",
              "10124              -0.997155     0.270611    -0.107644        -0.044484   \n",
              "10125              -0.997155     0.270611    -0.107644        -0.044484   \n",
              "10126              -0.311572    -3.695345    -0.107644        -0.044484   \n",
              "\n",
              "       prefix_Silver  \n",
              "0          -0.240794  \n",
              "1          -0.240794  \n",
              "2          -0.240794  \n",
              "3          -0.240794  \n",
              "4          -0.240794  \n",
              "...              ...  \n",
              "10122      -0.240794  \n",
              "10123      -0.240794  \n",
              "10124      -0.240794  \n",
              "10125      -0.240794  \n",
              "10126       4.152932  \n",
              "\n",
              "[10127 rows x 22 columns]"
            ],
            "text/html": [
              "\n",
              "  <div id=\"df-16ffacc2-9f7c-419c-960f-49618da24544\">\n",
              "    <div class=\"colab-df-container\">\n",
              "      <div>\n",
              "<style scoped>\n",
              "    .dataframe tbody tr th:only-of-type {\n",
              "        vertical-align: middle;\n",
              "    }\n",
              "\n",
              "    .dataframe tbody tr th {\n",
              "        vertical-align: top;\n",
              "    }\n",
              "\n",
              "    .dataframe thead th {\n",
              "        text-align: right;\n",
              "    }\n",
              "</style>\n",
              "<table border=\"1\" class=\"dataframe\">\n",
              "  <thead>\n",
              "    <tr style=\"text-align: right;\">\n",
              "      <th></th>\n",
              "      <th>Customer_Age</th>\n",
              "      <th>Gender</th>\n",
              "      <th>Dependent_count</th>\n",
              "      <th>Education_Level</th>\n",
              "      <th>Marital_Status</th>\n",
              "      <th>Income_Category</th>\n",
              "      <th>Months_on_book</th>\n",
              "      <th>Total_Relationship_Count</th>\n",
              "      <th>Months_Inactive_12_mon</th>\n",
              "      <th>Contacts_Count_12_mon</th>\n",
              "      <th>...</th>\n",
              "      <th>Avg_Open_To_Buy</th>\n",
              "      <th>Total_Amt_Chng_Q4_Q1</th>\n",
              "      <th>Total_Trans_Amt</th>\n",
              "      <th>Total_Trans_Ct</th>\n",
              "      <th>Total_Ct_Chng_Q4_Q1</th>\n",
              "      <th>Avg_Utilization_Ratio</th>\n",
              "      <th>prefix_Blue</th>\n",
              "      <th>prefix_Gold</th>\n",
              "      <th>prefix_Platinum</th>\n",
              "      <th>prefix_Silver</th>\n",
              "    </tr>\n",
              "  </thead>\n",
              "  <tbody>\n",
              "    <tr>\n",
              "      <th>0</th>\n",
              "      <td>-0.165406</td>\n",
              "      <td>1.059956</td>\n",
              "      <td>0.503368</td>\n",
              "      <td>-0.893680</td>\n",
              "      <td>0.928951</td>\n",
              "      <td>0.597300</td>\n",
              "      <td>0.384621</td>\n",
              "      <td>0.763943</td>\n",
              "      <td>-1.327136</td>\n",
              "      <td>0.492404</td>\n",
              "      <td>...</td>\n",
              "      <td>0.488971</td>\n",
              "      <td>2.623494</td>\n",
              "      <td>-0.959707</td>\n",
              "      <td>-0.973895</td>\n",
              "      <td>3.834003</td>\n",
              "      <td>-0.775882</td>\n",
              "      <td>0.270611</td>\n",
              "      <td>-0.107644</td>\n",
              "      <td>-0.044484</td>\n",
              "      <td>-0.240794</td>\n",
              "    </tr>\n",
              "    <tr>\n",
              "      <th>1</th>\n",
              "      <td>0.333570</td>\n",
              "      <td>-0.943436</td>\n",
              "      <td>2.043199</td>\n",
              "      <td>0.593388</td>\n",
              "      <td>-1.076483</td>\n",
              "      <td>-0.887628</td>\n",
              "      <td>1.010715</td>\n",
              "      <td>1.407306</td>\n",
              "      <td>-1.327136</td>\n",
              "      <td>-0.411616</td>\n",
              "      <td>...</td>\n",
              "      <td>-0.008486</td>\n",
              "      <td>3.563293</td>\n",
              "      <td>-0.916433</td>\n",
              "      <td>-1.357340</td>\n",
              "      <td>12.608573</td>\n",
              "      <td>-0.616276</td>\n",
              "      <td>0.270611</td>\n",
              "      <td>-0.107644</td>\n",
              "      <td>-0.044484</td>\n",
              "      <td>-0.240794</td>\n",
              "    </tr>\n",
              "    <tr>\n",
              "      <th>2</th>\n",
              "      <td>0.583058</td>\n",
              "      <td>1.059956</td>\n",
              "      <td>0.503368</td>\n",
              "      <td>0.593388</td>\n",
              "      <td>0.928951</td>\n",
              "      <td>1.339764</td>\n",
              "      <td>0.008965</td>\n",
              "      <td>0.120579</td>\n",
              "      <td>-1.327136</td>\n",
              "      <td>-2.219655</td>\n",
              "      <td>...</td>\n",
              "      <td>-0.445658</td>\n",
              "      <td>8.367214</td>\n",
              "      <td>-0.740982</td>\n",
              "      <td>-1.911206</td>\n",
              "      <td>6.807864</td>\n",
              "      <td>-0.997155</td>\n",
              "      <td>0.270611</td>\n",
              "      <td>-0.107644</td>\n",
              "      <td>-0.044484</td>\n",
              "      <td>-0.240794</td>\n",
              "    </tr>\n",
              "    <tr>\n",
              "      <th>3</th>\n",
              "      <td>-0.789126</td>\n",
              "      <td>-0.943436</td>\n",
              "      <td>1.273283</td>\n",
              "      <td>-0.893680</td>\n",
              "      <td>0.928951</td>\n",
              "      <td>-0.887628</td>\n",
              "      <td>-0.241473</td>\n",
              "      <td>-0.522785</td>\n",
              "      <td>1.641478</td>\n",
              "      <td>-1.315636</td>\n",
              "      <td>...</td>\n",
              "      <td>-0.734100</td>\n",
              "      <td>2.942843</td>\n",
              "      <td>-0.951758</td>\n",
              "      <td>-1.911206</td>\n",
              "      <td>6.807864</td>\n",
              "      <td>1.759686</td>\n",
              "      <td>0.270611</td>\n",
              "      <td>-0.107644</td>\n",
              "      <td>-0.044484</td>\n",
              "      <td>-0.240794</td>\n",
              "    </tr>\n",
              "    <tr>\n",
              "      <th>4</th>\n",
              "      <td>-0.789126</td>\n",
              "      <td>1.059956</td>\n",
              "      <td>0.503368</td>\n",
              "      <td>-1.637214</td>\n",
              "      <td>0.928951</td>\n",
              "      <td>0.597300</td>\n",
              "      <td>-1.869317</td>\n",
              "      <td>0.763943</td>\n",
              "      <td>-1.327136</td>\n",
              "      <td>-2.219655</td>\n",
              "      <td>...</td>\n",
              "      <td>-0.302868</td>\n",
              "      <td>6.455682</td>\n",
              "      <td>-1.056263</td>\n",
              "      <td>-1.570365</td>\n",
              "      <td>7.509325</td>\n",
              "      <td>-0.997155</td>\n",
              "      <td>0.270611</td>\n",
              "      <td>-0.107644</td>\n",
              "      <td>-0.044484</td>\n",
              "      <td>-0.240794</td>\n",
              "    </tr>\n",
              "    <tr>\n",
              "      <th>...</th>\n",
              "      <td>...</td>\n",
              "      <td>...</td>\n",
              "      <td>...</td>\n",
              "      <td>...</td>\n",
              "      <td>...</td>\n",
              "      <td>...</td>\n",
              "      <td>...</td>\n",
              "      <td>...</td>\n",
              "      <td>...</td>\n",
              "      <td>...</td>\n",
              "      <td>...</td>\n",
              "      <td>...</td>\n",
              "      <td>...</td>\n",
              "      <td>...</td>\n",
              "      <td>...</td>\n",
              "      <td>...</td>\n",
              "      <td>...</td>\n",
              "      <td>...</td>\n",
              "      <td>...</td>\n",
              "      <td>...</td>\n",
              "      <td>...</td>\n",
              "    </tr>\n",
              "    <tr>\n",
              "      <th>10122</th>\n",
              "      <td>0.458314</td>\n",
              "      <td>1.059956</td>\n",
              "      <td>-0.266547</td>\n",
              "      <td>0.593388</td>\n",
              "      <td>-1.076483</td>\n",
              "      <td>-0.145164</td>\n",
              "      <td>0.509840</td>\n",
              "      <td>-0.522785</td>\n",
              "      <td>-0.337598</td>\n",
              "      <td>0.492404</td>\n",
              "      <td>...</td>\n",
              "      <td>-0.584929</td>\n",
              "      <td>-0.259771</td>\n",
              "      <td>3.259358</td>\n",
              "      <td>2.221481</td>\n",
              "      <td>0.608119</td>\n",
              "      <td>0.678714</td>\n",
              "      <td>0.270611</td>\n",
              "      <td>-0.107644</td>\n",
              "      <td>-0.044484</td>\n",
              "      <td>-0.240794</td>\n",
              "    </tr>\n",
              "    <tr>\n",
              "      <th>10123</th>\n",
              "      <td>-0.664382</td>\n",
              "      <td>1.059956</td>\n",
              "      <td>-0.266547</td>\n",
              "      <td>0.593388</td>\n",
              "      <td>-1.076483</td>\n",
              "      <td>-0.145164</td>\n",
              "      <td>-1.368442</td>\n",
              "      <td>0.120579</td>\n",
              "      <td>-0.337598</td>\n",
              "      <td>0.492404</td>\n",
              "      <td>...</td>\n",
              "      <td>-0.591639</td>\n",
              "      <td>0.201004</td>\n",
              "      <td>1.283475</td>\n",
              "      <td>0.176440</td>\n",
              "      <td>-0.122745</td>\n",
              "      <td>0.856458</td>\n",
              "      <td>0.270611</td>\n",
              "      <td>-0.107644</td>\n",
              "      <td>-0.044484</td>\n",
              "      <td>-0.240794</td>\n",
              "    </tr>\n",
              "    <tr>\n",
              "      <th>10124</th>\n",
              "      <td>-0.290150</td>\n",
              "      <td>-0.943436</td>\n",
              "      <td>-1.036462</td>\n",
              "      <td>-0.893680</td>\n",
              "      <td>0.928951</td>\n",
              "      <td>-0.887628</td>\n",
              "      <td>0.008965</td>\n",
              "      <td>0.763943</td>\n",
              "      <td>0.651940</td>\n",
              "      <td>1.396424</td>\n",
              "      <td>...</td>\n",
              "      <td>-0.226632</td>\n",
              "      <td>0.269436</td>\n",
              "      <td>1.732994</td>\n",
              "      <td>-0.207005</td>\n",
              "      <td>0.444305</td>\n",
              "      <td>-0.997155</td>\n",
              "      <td>0.270611</td>\n",
              "      <td>-0.107644</td>\n",
              "      <td>-0.044484</td>\n",
              "      <td>-0.240794</td>\n",
              "    </tr>\n",
              "    <tr>\n",
              "      <th>10125</th>\n",
              "      <td>-2.036565</td>\n",
              "      <td>1.059956</td>\n",
              "      <td>-0.266547</td>\n",
              "      <td>0.593388</td>\n",
              "      <td>0.928951</td>\n",
              "      <td>-0.145164</td>\n",
              "      <td>0.008965</td>\n",
              "      <td>0.120579</td>\n",
              "      <td>0.651940</td>\n",
              "      <td>0.492404</td>\n",
              "      <td>...</td>\n",
              "      <td>-0.240713</td>\n",
              "      <td>-1.026208</td>\n",
              "      <td>1.174848</td>\n",
              "      <td>-0.121795</td>\n",
              "      <td>0.041070</td>\n",
              "      <td>-0.997155</td>\n",
              "      <td>0.270611</td>\n",
              "      <td>-0.107644</td>\n",
              "      <td>-0.044484</td>\n",
              "      <td>-0.240794</td>\n",
              "    </tr>\n",
              "    <tr>\n",
              "      <th>10126</th>\n",
              "      <td>-0.414894</td>\n",
              "      <td>-0.943436</td>\n",
              "      <td>-0.266547</td>\n",
              "      <td>0.593388</td>\n",
              "      <td>0.928951</td>\n",
              "      <td>-0.887628</td>\n",
              "      <td>-1.368442</td>\n",
              "      <td>1.407306</td>\n",
              "      <td>-0.337598</td>\n",
              "      <td>1.396424</td>\n",
              "      <td>...</td>\n",
              "      <td>0.105372</td>\n",
              "      <td>-0.259771</td>\n",
              "      <td>1.733877</td>\n",
              "      <td>-0.164400</td>\n",
              "      <td>-0.265557</td>\n",
              "      <td>-0.311572</td>\n",
              "      <td>-3.695345</td>\n",
              "      <td>-0.107644</td>\n",
              "      <td>-0.044484</td>\n",
              "      <td>4.152932</td>\n",
              "    </tr>\n",
              "  </tbody>\n",
              "</table>\n",
              "<p>10127 rows × 22 columns</p>\n",
              "</div>\n",
              "      <button class=\"colab-df-convert\" onclick=\"convertToInteractive('df-16ffacc2-9f7c-419c-960f-49618da24544')\"\n",
              "              title=\"Convert this dataframe to an interactive table.\"\n",
              "              style=\"display:none;\">\n",
              "        \n",
              "  <svg xmlns=\"http://www.w3.org/2000/svg\" height=\"24px\"viewBox=\"0 0 24 24\"\n",
              "       width=\"24px\">\n",
              "    <path d=\"M0 0h24v24H0V0z\" fill=\"none\"/>\n",
              "    <path d=\"M18.56 5.44l.94 2.06.94-2.06 2.06-.94-2.06-.94-.94-2.06-.94 2.06-2.06.94zm-11 1L8.5 8.5l.94-2.06 2.06-.94-2.06-.94L8.5 2.5l-.94 2.06-2.06.94zm10 10l.94 2.06.94-2.06 2.06-.94-2.06-.94-.94-2.06-.94 2.06-2.06.94z\"/><path d=\"M17.41 7.96l-1.37-1.37c-.4-.4-.92-.59-1.43-.59-.52 0-1.04.2-1.43.59L10.3 9.45l-7.72 7.72c-.78.78-.78 2.05 0 2.83L4 21.41c.39.39.9.59 1.41.59.51 0 1.02-.2 1.41-.59l7.78-7.78 2.81-2.81c.8-.78.8-2.07 0-2.86zM5.41 20L4 18.59l7.72-7.72 1.47 1.35L5.41 20z\"/>\n",
              "  </svg>\n",
              "      </button>\n",
              "      \n",
              "  <style>\n",
              "    .colab-df-container {\n",
              "      display:flex;\n",
              "      flex-wrap:wrap;\n",
              "      gap: 12px;\n",
              "    }\n",
              "\n",
              "    .colab-df-convert {\n",
              "      background-color: #E8F0FE;\n",
              "      border: none;\n",
              "      border-radius: 50%;\n",
              "      cursor: pointer;\n",
              "      display: none;\n",
              "      fill: #1967D2;\n",
              "      height: 32px;\n",
              "      padding: 0 0 0 0;\n",
              "      width: 32px;\n",
              "    }\n",
              "\n",
              "    .colab-df-convert:hover {\n",
              "      background-color: #E2EBFA;\n",
              "      box-shadow: 0px 1px 2px rgba(60, 64, 67, 0.3), 0px 1px 3px 1px rgba(60, 64, 67, 0.15);\n",
              "      fill: #174EA6;\n",
              "    }\n",
              "\n",
              "    [theme=dark] .colab-df-convert {\n",
              "      background-color: #3B4455;\n",
              "      fill: #D2E3FC;\n",
              "    }\n",
              "\n",
              "    [theme=dark] .colab-df-convert:hover {\n",
              "      background-color: #434B5C;\n",
              "      box-shadow: 0px 1px 3px 1px rgba(0, 0, 0, 0.15);\n",
              "      filter: drop-shadow(0px 1px 2px rgba(0, 0, 0, 0.3));\n",
              "      fill: #FFFFFF;\n",
              "    }\n",
              "  </style>\n",
              "\n",
              "      <script>\n",
              "        const buttonEl =\n",
              "          document.querySelector('#df-16ffacc2-9f7c-419c-960f-49618da24544 button.colab-df-convert');\n",
              "        buttonEl.style.display =\n",
              "          google.colab.kernel.accessAllowed ? 'block' : 'none';\n",
              "\n",
              "        async function convertToInteractive(key) {\n",
              "          const element = document.querySelector('#df-16ffacc2-9f7c-419c-960f-49618da24544');\n",
              "          const dataTable =\n",
              "            await google.colab.kernel.invokeFunction('convertToInteractive',\n",
              "                                                     [key], {});\n",
              "          if (!dataTable) return;\n",
              "\n",
              "          const docLinkHtml = 'Like what you see? Visit the ' +\n",
              "            '<a target=\"_blank\" href=https://colab.research.google.com/notebooks/data_table.ipynb>data table notebook</a>'\n",
              "            + ' to learn more about interactive tables.';\n",
              "          element.innerHTML = '';\n",
              "          dataTable['output_type'] = 'display_data';\n",
              "          await google.colab.output.renderOutput(dataTable, element);\n",
              "          const docLink = document.createElement('div');\n",
              "          docLink.innerHTML = docLinkHtml;\n",
              "          element.appendChild(docLink);\n",
              "        }\n",
              "      </script>\n",
              "    </div>\n",
              "  </div>\n",
              "  "
            ]
          },
          "metadata": {},
          "execution_count": 11
        }
      ]
    },
    {
      "cell_type": "code",
      "source": [
        "df['Education_Level'].mode()"
      ],
      "metadata": {
        "colab": {
          "base_uri": "https://localhost:8080/"
        },
        "id": "XsUMW6uMAURC",
        "outputId": "2b50a428-e8a1-409d-d50d-efa4ed9a173c"
      },
      "execution_count": null,
      "outputs": [
        {
          "output_type": "execute_result",
          "data": {
            "text/plain": [
              "0    Graduate\n",
              "dtype: object"
            ]
          },
          "metadata": {},
          "execution_count": 12
        }
      ]
    },
    {
      "cell_type": "code",
      "source": [
        "y"
      ],
      "metadata": {
        "colab": {
          "base_uri": "https://localhost:8080/"
        },
        "id": "JKIcxmQxxir2",
        "outputId": "1d2101b6-29ce-4ad5-a01c-4d39630b06e8"
      },
      "execution_count": null,
      "outputs": [
        {
          "output_type": "execute_result",
          "data": {
            "text/plain": [
              "0        0\n",
              "1        0\n",
              "2        0\n",
              "3        0\n",
              "4        0\n",
              "        ..\n",
              "10122    0\n",
              "10123    1\n",
              "10124    1\n",
              "10125    1\n",
              "10126    1\n",
              "Name: Attrition_Flag, Length: 10127, dtype: int64"
            ]
          },
          "metadata": {},
          "execution_count": 13
        }
      ]
    },
    {
      "cell_type": "code",
      "source": [
        "x.columns"
      ],
      "metadata": {
        "colab": {
          "base_uri": "https://localhost:8080/"
        },
        "id": "xB4LvadIyFNE",
        "outputId": "dfb43cd7-7651-411a-a699-7fe65bdc616e"
      },
      "execution_count": null,
      "outputs": [
        {
          "output_type": "execute_result",
          "data": {
            "text/plain": [
              "Index(['Customer_Age', 'Gender', 'Dependent_count', 'Education_Level',\n",
              "       'Marital_Status', 'Income_Category', 'Months_on_book',\n",
              "       'Total_Relationship_Count', 'Months_Inactive_12_mon',\n",
              "       'Contacts_Count_12_mon', 'Credit_Limit', 'Total_Revolving_Bal',\n",
              "       'Avg_Open_To_Buy', 'Total_Amt_Chng_Q4_Q1', 'Total_Trans_Amt',\n",
              "       'Total_Trans_Ct', 'Total_Ct_Chng_Q4_Q1', 'Avg_Utilization_Ratio',\n",
              "       'prefix_Blue', 'prefix_Gold', 'prefix_Platinum', 'prefix_Silver'],\n",
              "      dtype='object')"
            ]
          },
          "metadata": {},
          "execution_count": 14
        }
      ]
    },
    {
      "cell_type": "code",
      "source": [
        "{column: len(df[column].unique())for column in df.select_dtypes('object').columns}"
      ],
      "metadata": {
        "colab": {
          "base_uri": "https://localhost:8080/"
        },
        "id": "-7DPlmTRyhL6",
        "outputId": "6d13c36a-71ce-4443-bc92-42d3c7c35238"
      },
      "execution_count": null,
      "outputs": [
        {
          "output_type": "execute_result",
          "data": {
            "text/plain": [
              "{'Attrition_Flag': 2,\n",
              " 'Gender': 2,\n",
              " 'Education_Level': 7,\n",
              " 'Marital_Status': 4,\n",
              " 'Income_Category': 6,\n",
              " 'Card_Category': 4}"
            ]
          },
          "metadata": {},
          "execution_count": 15
        }
      ]
    },
    {
      "cell_type": "code",
      "source": [
        "{column: list(df[column].unique())for column in df.select_dtypes('object').columns}"
      ],
      "metadata": {
        "colab": {
          "base_uri": "https://localhost:8080/"
        },
        "id": "Z92lT9Bp1FB-",
        "outputId": "347c93b5-27ef-4915-c882-68f35af993ed"
      },
      "execution_count": null,
      "outputs": [
        {
          "output_type": "execute_result",
          "data": {
            "text/plain": [
              "{'Attrition_Flag': ['Existing Customer', 'Attrited Customer'],\n",
              " 'Gender': ['M', 'F'],\n",
              " 'Education_Level': ['High School',\n",
              "  'Graduate',\n",
              "  'Uneducated',\n",
              "  'Unknown',\n",
              "  'College',\n",
              "  'Post-Graduate',\n",
              "  'Doctorate'],\n",
              " 'Marital_Status': ['Married', 'Single', 'Unknown', 'Divorced'],\n",
              " 'Income_Category': ['$60K - $80K',\n",
              "  'Less than $40K',\n",
              "  '$80K - $120K',\n",
              "  '$40K - $60K',\n",
              "  '$120K +',\n",
              "  'Unknown'],\n",
              " 'Card_Category': ['Blue', 'Gold', 'Silver', 'Platinum']}"
            ]
          },
          "metadata": {},
          "execution_count": 16
        }
      ]
    },
    {
      "cell_type": "code",
      "source": [
        "x.isna().sum()"
      ],
      "metadata": {
        "colab": {
          "base_uri": "https://localhost:8080/"
        },
        "id": "1lQL3KpBBtbF",
        "outputId": "a5b5c463-8bfc-4cec-fdc1-8f4e3651e87b"
      },
      "execution_count": null,
      "outputs": [
        {
          "output_type": "execute_result",
          "data": {
            "text/plain": [
              "Customer_Age                0\n",
              "Gender                      0\n",
              "Dependent_count             0\n",
              "Education_Level             0\n",
              "Marital_Status              0\n",
              "Income_Category             0\n",
              "Months_on_book              0\n",
              "Total_Relationship_Count    0\n",
              "Months_Inactive_12_mon      0\n",
              "Contacts_Count_12_mon       0\n",
              "Credit_Limit                0\n",
              "Total_Revolving_Bal         0\n",
              "Avg_Open_To_Buy             0\n",
              "Total_Amt_Chng_Q4_Q1        0\n",
              "Total_Trans_Amt             0\n",
              "Total_Trans_Ct              0\n",
              "Total_Ct_Chng_Q4_Q1         0\n",
              "Avg_Utilization_Ratio       0\n",
              "prefix_Blue                 0\n",
              "prefix_Gold                 0\n",
              "prefix_Platinum             0\n",
              "prefix_Silver               0\n",
              "dtype: int64"
            ]
          },
          "metadata": {},
          "execution_count": 17
        }
      ]
    },
    {
      "cell_type": "markdown",
      "source": [
        "Training my alogrithm"
      ],
      "metadata": {
        "id": "4--ZjlH1HVS4"
      }
    },
    {
      "cell_type": "code",
      "source": [
        "x_train, x_test, y_train, y_test = train_test_split(x,y,test_size=0.2,random_state=1)"
      ],
      "metadata": {
        "id": "70AffY_gHkAs"
      },
      "execution_count": null,
      "outputs": []
    },
    {
      "cell_type": "code",
      "source": [
        "print(x.shape,x_train.shape,x_test.shape)"
      ],
      "metadata": {
        "colab": {
          "base_uri": "https://localhost:8080/"
        },
        "id": "JrO1S7YAn2M0",
        "outputId": "691dc642-ddd9-4dd2-9d31-061f68523f55"
      },
      "execution_count": null,
      "outputs": [
        {
          "output_type": "stream",
          "name": "stdout",
          "text": [
            "(10127, 22) (8101, 22) (2026, 22)\n"
          ]
        }
      ]
    },
    {
      "cell_type": "code",
      "source": [
        "print(y.shape,y_train.shape,y_test.shape)"
      ],
      "metadata": {
        "colab": {
          "base_uri": "https://localhost:8080/"
        },
        "id": "R5Uc8WJ9o9Li",
        "outputId": "ece9d79c-6330-4074-c6f9-0354a200145b"
      },
      "execution_count": null,
      "outputs": [
        {
          "output_type": "stream",
          "name": "stdout",
          "text": [
            "(10127,) (8101,) (2026,)\n"
          ]
        }
      ]
    },
    {
      "cell_type": "markdown",
      "source": [
        "i am going to predict using Random forest classifer"
      ],
      "metadata": {
        "id": "39d8gVYJr-KZ"
      }
    },
    {
      "cell_type": "code",
      "source": [
        "from sklearn.ensemble import RandomForestClassifier\n",
        "from sklearn import metrics\n",
        "import seaborn as sns\n",
        "rf = RandomForestClassifier(n_estimators=100, random_state=42)"
      ],
      "metadata": {
        "id": "kcTbNwzowa5Q"
      },
      "execution_count": null,
      "outputs": []
    },
    {
      "cell_type": "code",
      "source": [
        "rf.fit(x_train, y_train)"
      ],
      "metadata": {
        "colab": {
          "base_uri": "https://localhost:8080/"
        },
        "id": "C2bCMM0GyWBP",
        "outputId": "21ea3cd4-13f7-44be-f44c-e70520c1b76e"
      },
      "execution_count": null,
      "outputs": [
        {
          "output_type": "execute_result",
          "data": {
            "text/plain": [
              "RandomForestClassifier(random_state=42)"
            ]
          },
          "metadata": {},
          "execution_count": 22
        }
      ]
    },
    {
      "cell_type": "markdown",
      "source": [
        "predicting Churn"
      ],
      "metadata": {
        "id": "pH5VyDUq4QYd"
      }
    },
    {
      "cell_type": "code",
      "source": [
        "Y_pred= rf.predict(x_test)"
      ],
      "metadata": {
        "id": "VTzooAOw4Vtj"
      },
      "execution_count": null,
      "outputs": []
    },
    {
      "cell_type": "code",
      "source": [
        "Y_pred"
      ],
      "metadata": {
        "colab": {
          "base_uri": "https://localhost:8080/"
        },
        "id": "WtZLdstUz6RG",
        "outputId": "383d6c98-c191-4b5f-edb9-a67cd5792b5d"
      },
      "execution_count": null,
      "outputs": [
        {
          "output_type": "execute_result",
          "data": {
            "text/plain": [
              "array([0, 0, 0, ..., 0, 0, 0])"
            ]
          },
          "metadata": {},
          "execution_count": 30
        }
      ]
    },
    {
      "cell_type": "markdown",
      "source": [
        "testing for accuracy of my prediction classifer"
      ],
      "metadata": {
        "id": "1mmfwckiESQa"
      }
    },
    {
      "cell_type": "code",
      "source": [
        "print(metrics.accuracy_score(y_test,Y_pred))"
      ],
      "metadata": {
        "colab": {
          "base_uri": "https://localhost:8080/"
        },
        "id": "jvzdxHyO5Mxk",
        "outputId": "9e4662bf-83b4-473f-d932-9c39674fe042"
      },
      "execution_count": null,
      "outputs": [
        {
          "output_type": "stream",
          "name": "stdout",
          "text": [
            "0.9595261599210266\n"
          ]
        }
      ]
    },
    {
      "cell_type": "code",
      "source": [
        "mat= metrics.confusion_matrix(y_test,Y_pred)"
      ],
      "metadata": {
        "id": "wEMVO_wY7JrQ"
      },
      "execution_count": null,
      "outputs": []
    },
    {
      "cell_type": "code",
      "source": [
        "mat"
      ],
      "metadata": {
        "colab": {
          "base_uri": "https://localhost:8080/"
        },
        "id": "BiQHc9zu4ObQ",
        "outputId": "f37995e6-cf62-4a3e-be01-313f77b2c099"
      },
      "execution_count": null,
      "outputs": [
        {
          "output_type": "execute_result",
          "data": {
            "text/plain": [
              "array([[1676,   19],\n",
              "       [  63,  268]])"
            ]
          },
          "metadata": {},
          "execution_count": 29
        }
      ]
    },
    {
      "cell_type": "code",
      "source": [
        "sns.heatmap(mat, annot=True,fmt= 'd', cbar=False)\n",
        "xlabels=('predicted')\n",
        "ylabels=('True')"
      ],
      "metadata": {
        "colab": {
          "base_uri": "https://localhost:8080/",
          "height": 265
        },
        "id": "Zsdepcmp8syV",
        "outputId": "42b141b7-bfbc-46a4-bdd0-7a9c1486f6dd"
      },
      "execution_count": null,
      "outputs": [
        {
          "output_type": "display_data",
          "data": {
            "text/plain": [
              "<Figure size 432x288 with 1 Axes>"
            ],
            "image/png": "[encoded data removed]"
          },
          "metadata": {
            "needs_background": "light"
          }
        }
      ]
    },
    {
      "cell_type": "markdown",
      "source": [
        "from my prediction there is a low chance for customer to Churn"
      ],
      "metadata": {
        "id": "1cJK1s2N4PE7"
      }
    },
    {
      "cell_type": "markdown",
      "source": [
        "HOW THE ORGANISATION CAN REDUCE THEIR CHURN RATE\n",
        "the credit card company can hold a survey or discussion with already churned customers to know why they left inorder to have an idea on how to avoid future churn.\n",
        "\n",
        "Continous nuturing of customers should be carried out through the giving of discounts on the use of credit cards at stores,a reduced interest rate and possibly doing a followup on customers after sales.\n",
        "\n",
        "their should be proper orientation giving to customers inorder to ensure they customers get to know the usefulness of the card and when to put their cards to use."
      ],
      "metadata": {
        "id": "Lf07k8yRN_2P"
      }
    },
    {
      "cell_type": "code",
      "source": [],
      "metadata": {
        "id": "M7Nl5AOcNL8I"
      },
      "execution_count": null,
      "outputs": []
    }
  ]
}